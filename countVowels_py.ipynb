{
  "nbformat": 4,
  "nbformat_minor": 0,
  "metadata": {
    "colab": {
      "provenance": [],
      "collapsed_sections": [],
      "authorship_tag": "ABX9TyPh2FHnY86MjoQUpQXzHeDm",
      "include_colab_link": true
    },
    "kernelspec": {
      "name": "python3",
      "display_name": "Python 3"
    },
    "language_info": {
      "name": "python"
    }
  },
  "cells": [
    {
      "cell_type": "markdown",
      "metadata": {
        "id": "view-in-github",
        "colab_type": "text"
      },
      "source": [
        "<a href=\"https://colab.research.google.com/github/Mnagel05/refactored-guacamole/blob/main/countVowels_py.ipynb\" target=\"_parent\"><img src=\"https://colab.research.google.com/assets/colab-badge.svg\" alt=\"Open In Colab\"/></a>"
      ]
    },
    {
      "cell_type": "code",
      "execution_count": null,
      "metadata": {
        "id": "PHaK_oJdtUg8"
      },
      "outputs": [],
      "source": [
        "import sys "
      ]
    },
    {
      "cell_type": "code",
      "source": [
        "def count(string):\n",
        "  vowels = {}\n",
        "  for i in string:\n",
        "    if(i == 'A' or i == 'E' or i == 'O' or i == 'U'):\n",
        "      vowels[i] = 1\n",
        "  print('Total Number of Vowels in this String =', vowels)    \n",
        "\n",
        "values = str(input('Enter your string='))\n",
        "value_1=value.lower()\n",
        "count(value_1)"
      ],
      "metadata": {
        "id": "mVerZvspyPlI"
      },
      "execution_count": null,
      "outputs": []
    }
  ]
}